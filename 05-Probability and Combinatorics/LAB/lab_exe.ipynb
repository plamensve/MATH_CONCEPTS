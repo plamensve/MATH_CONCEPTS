{
 "cells": [
  {
   "metadata": {},
   "cell_type": "markdown",
   "source": [
    "$$ \\text{Monty Hall Paradox} $$\n",
    "\n"
   ],
   "id": "a8df0c37b470ec02"
  },
  {
   "metadata": {},
   "cell_type": "markdown",
   "source": [
    "$$ \\Omega = \\{a, b, c\\} $$\n",
    "$$ \\text{You can choose door 'a', door 'b', door 'c'} $$"
   ],
   "id": "1d19caceec33f3e8"
  },
  {
   "metadata": {},
   "cell_type": "markdown",
   "source": "$$ p(a_\\Omega) = p(b_\\Omega) = p(c_\\Omega) = \\frac{1}{|\\Omega|} $$",
   "id": "82d8c0f85caeb373"
  },
  {
   "metadata": {},
   "cell_type": "markdown",
   "source": "$$ A = \\{a\\}  \\quad B = \\{b, c\\} $$",
   "id": "8a0fd292263f75b7"
  },
  {
   "metadata": {},
   "cell_type": "markdown",
   "source": "$$p(A) = \\frac{|A|}{|\\Omega|} \\quad p(B) = \\frac{|B|}{|\\Omega|}$$",
   "id": "76493e9e01a6d92c"
  },
  {
   "metadata": {},
   "cell_type": "markdown",
   "source": [
    "$$А, B = Favorable\\,outcomes$$\n",
    "$$\\Omega = Possible\\,outcomes $$"
   ],
   "id": "c067e1ea594fb13f"
  },
  {
   "metadata": {},
   "cell_type": "markdown",
   "source": "$$ p(A) = \\frac{1}{3} \\quad p(B) = \\frac{2}{3} \\quad p(A) + p(B) = D = \\frac{3}{3} = 1 = 100\\%$$",
   "id": "cda799e58dcc495"
  },
  {
   "metadata": {},
   "cell_type": "markdown",
   "source": "At the initial choice, the probability of success is $\\frac{1}{3}$. Once we know that there is no car behind door $b$, we can change our choice to door $c$. Given the initial probability for set $B$, switching our choice puts us in a situation with a $\\frac{2}{3}$ chance of success.",
   "id": "b8f4c63de1ef38b1"
  },
  {
   "metadata": {
    "ExecuteTime": {
     "end_time": "2025-05-03T11:44:36.993797Z",
     "start_time": "2025-05-03T11:44:36.992004Z"
    }
   },
   "cell_type": "code",
   "source": "",
   "id": "47c36f9c2e34de05",
   "outputs": [],
   "execution_count": 18
  }
 ],
 "metadata": {
  "kernelspec": {
   "display_name": "Python 3",
   "language": "python",
   "name": "python3"
  },
  "language_info": {
   "codemirror_mode": {
    "name": "ipython",
    "version": 2
   },
   "file_extension": ".py",
   "mimetype": "text/x-python",
   "name": "python",
   "nbconvert_exporter": "python",
   "pygments_lexer": "ipython2",
   "version": "2.7.6"
  }
 },
 "nbformat": 4,
 "nbformat_minor": 5
}
