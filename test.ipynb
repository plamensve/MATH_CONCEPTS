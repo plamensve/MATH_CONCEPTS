{
 "cells": [
  {
   "cell_type": "code",
   "id": "initial_id",
   "metadata": {
    "collapsed": true,
    "ExecuteTime": {
     "end_time": "2025-03-04T19:43:31.915826Z",
     "start_time": "2025-03-04T19:43:31.911438Z"
    }
   },
   "source": "2e3 + 2e3",
   "outputs": [
    {
     "data": {
      "text/plain": [
       "4000.0"
      ]
     },
     "execution_count": 1,
     "metadata": {},
     "output_type": "execute_result"
    }
   ],
   "execution_count": 1
  },
  {
   "metadata": {
    "ExecuteTime": {
     "end_time": "2025-03-04T19:43:31.918335Z",
     "start_time": "2025-03-04T19:43:31.915826Z"
    }
   },
   "cell_type": "code",
   "source": "",
   "id": "561906d32752933",
   "outputs": [],
   "execution_count": 1
  },
  {
   "metadata": {
    "ExecuteTime": {
     "end_time": "2025-03-04T19:43:31.920621Z",
     "start_time": "2025-03-04T19:43:31.918335Z"
    }
   },
   "cell_type": "code",
   "source": "",
   "id": "b78d637797fb941",
   "outputs": [],
   "execution_count": 1
  },
  {
   "metadata": {
    "ExecuteTime": {
     "end_time": "2025-03-04T19:43:31.922931Z",
     "start_time": "2025-03-04T19:43:31.920621Z"
    }
   },
   "cell_type": "code",
   "source": "",
   "id": "4518342059304b4f",
   "outputs": [],
   "execution_count": 1
  },
  {
   "metadata": {},
   "cell_type": "markdown",
   "source": "dasd",
   "id": "cfd77563c08973b1"
  }
 ],
 "metadata": {
  "kernelspec": {
   "display_name": "Python 3",
   "language": "python",
   "name": "python3"
  },
  "language_info": {
   "codemirror_mode": {
    "name": "ipython",
    "version": 2
   },
   "file_extension": ".py",
   "mimetype": "text/x-python",
   "name": "python",
   "nbconvert_exporter": "python",
   "pygments_lexer": "ipython2",
   "version": "2.7.6"
  }
 },
 "nbformat": 4,
 "nbformat_minor": 5
}
