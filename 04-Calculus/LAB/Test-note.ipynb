{
 "cells": [
  {
   "cell_type": "code",
   "id": "initial_id",
   "metadata": {
    "collapsed": true,
    "ExecuteTime": {
     "end_time": "2025-04-15T19:15:06.431605Z",
     "start_time": "2025-04-15T19:15:06.426429Z"
    }
   },
   "source": [
    "import numpy as np\n",
    "\n",
    "def get_limit(f, a):\n",
    "\n",
    "\n",
    "    epsilon = np.array([\n",
    "        10 ** p\n",
    "        for p in np.arange(0, -11, -1, dtype=float)])\n",
    "    x = np.append(a - epsilon, (a + epsilon)[::-1])\n",
    "    y = f(x)\n",
    "    \n",
    "    return np.stack([x, y], axis=1)\n",
    "\n",
    "print(get_limit(lambda x: x ** 2, 3))\n",
    "# print(get_limit(lambda x: x ** 2 + 3 * x, 2))\n",
    "# print(get_limit(lambda x: np.sin(x), 0))"
   ],
   "outputs": [
    {
     "name": "stdout",
     "output_type": "stream",
     "text": [
      "[[ 2.          4.        ]\n",
      " [ 2.9         8.41      ]\n",
      " [ 2.99        8.9401    ]\n",
      " [ 2.999       8.994001  ]\n",
      " [ 2.9999      8.99940001]\n",
      " [ 2.99999     8.99994   ]\n",
      " [ 2.999999    8.999994  ]\n",
      " [ 2.9999999   8.9999994 ]\n",
      " [ 2.99999999  8.99999994]\n",
      " [ 3.          8.99999999]\n",
      " [ 3.          9.        ]\n",
      " [ 3.          9.        ]\n",
      " [ 3.          9.00000001]\n",
      " [ 3.00000001  9.00000006]\n",
      " [ 3.0000001   9.0000006 ]\n",
      " [ 3.000001    9.000006  ]\n",
      " [ 3.00001     9.00006   ]\n",
      " [ 3.0001      9.00060001]\n",
      " [ 3.001       9.006001  ]\n",
      " [ 3.01        9.0601    ]\n",
      " [ 3.1         9.61      ]\n",
      " [ 4.         16.        ]]\n"
     ]
    }
   ],
   "execution_count": 2
  }
 ],
 "metadata": {
  "kernelspec": {
   "display_name": "Python 3",
   "language": "python",
   "name": "python3"
  },
  "language_info": {
   "codemirror_mode": {
    "name": "ipython",
    "version": 2
   },
   "file_extension": ".py",
   "mimetype": "text/x-python",
   "name": "python",
   "nbconvert_exporter": "python",
   "pygments_lexer": "ipython2",
   "version": "2.7.6"
  }
 },
 "nbformat": 4,
 "nbformat_minor": 5
}
